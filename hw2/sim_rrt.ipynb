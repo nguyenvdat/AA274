{
 "cells": [
  {
   "cell_type": "markdown",
   "metadata": {},
   "source": [
    "# RRT Sampling-Based Motion Planning"
   ]
  },
  {
   "cell_type": "code",
   "execution_count": null,
   "metadata": {},
   "outputs": [],
   "source": [
    "# The autoreload extension will automatically load in new code as you edit files, \n",
    "# so you don't need to restart the kernel every time\n",
    "%load_ext autoreload\n",
    "%autoreload 2\n",
    "\n",
    "import numpy as np\n",
    "import matplotlib.pyplot as plt\n",
    "from P2_rrt import *\n",
    "\n",
    "plt.rcParams['figure.figsize'] = [8, 8] # Change default figure size"
   ]
  },
  {
   "cell_type": "markdown",
   "metadata": {},
   "source": [
    "### Set up workspace"
   ]
  },
  {
   "cell_type": "code",
   "execution_count": null,
   "metadata": {},
   "outputs": [],
   "source": [
    "MAZE = np.array([\n",
    "    (( 5, 5), (-5, 5)),\n",
    "    ((-5, 5), (-5,-5)),\n",
    "    ((-5,-5), ( 5,-5)),\n",
    "    (( 5,-5), ( 5, 5)),\n",
    "    ((-3,-3), (-3,-1)),\n",
    "    ((-3,-3), (-1,-3)),\n",
    "    (( 3, 3), ( 3, 1)),\n",
    "    (( 3, 3), ( 1, 3)),\n",
    "    (( 1,-1), ( 3,-1)),\n",
    "    (( 3,-1), ( 3,-3)),\n",
    "    ((-1, 1), (-3, 1)),\n",
    "    ((-3, 1), (-3, 3)),\n",
    "    ((-1,-1), ( 1,-3)),\n",
    "    ((-1, 5), (-1, 2)),\n",
    "    (( 0, 0), ( 1, 1))\n",
    "])\n",
    "\n",
    "# try changing these!\n",
    "x_init = [-4,-4] # reset to [-4,-4] when saving results for submission\n",
    "x_goal = [4,4] # reset to [4,4] when saving results for submission"
   ]
  },
  {
   "cell_type": "markdown",
   "metadata": {},
   "source": [
    "## Geometric Planning"
   ]
  },
  {
   "cell_type": "code",
   "execution_count": null,
   "metadata": {},
   "outputs": [],
   "source": [
    "grrt = GeometricRRT([-5,-5], [5,5], x_init, x_goal, MAZE)\n",
    "grrt.solve(1.0, 2000)"
   ]
  },
  {
   "cell_type": "markdown",
   "metadata": {},
   "source": [
    "### Adding shortcutting"
   ]
  },
  {
   "cell_type": "code",
   "execution_count": null,
   "metadata": {},
   "outputs": [],
   "source": [
    "grrt.solve(1.0, 2000, shortcut=True)"
   ]
  },
  {
   "cell_type": "markdown",
   "metadata": {},
   "source": [
    "## Dubins Car Planning"
   ]
  },
  {
   "cell_type": "code",
   "execution_count": null,
   "metadata": {},
   "outputs": [],
   "source": [
    "x_init = [-4,-4,0]\n",
    "x_goal = [4,4,np.pi/2]\n",
    "\n",
    "drrt = DubinsRRT([-5,-5,0], [5,5,2*np.pi], x_init, x_goal, MAZE, .5)\n",
    "drrt.solve(1.0, 1000, shortcut=True)"
   ]
  },
  {
   "cell_type": "code",
   "execution_count": null,
   "metadata": {},
   "outputs": [],
   "source": []
  }
 ],
 "metadata": {
  "kernelspec": {
   "display_name": "Python 2",
   "language": "python",
   "name": "python2"
  },
  "language_info": {
   "codemirror_mode": {
    "name": "ipython",
    "version": 2
   },
   "file_extension": ".py",
   "mimetype": "text/x-python",
   "name": "python",
   "nbconvert_exporter": "python",
   "pygments_lexer": "ipython2",
   "version": "2.7.12"
  }
 },
 "nbformat": 4,
 "nbformat_minor": 2
}
