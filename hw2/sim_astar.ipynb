{
 "cells": [
  {
   "cell_type": "markdown",
   "metadata": {},
   "source": [
    "# A* Motion Planning"
   ]
  },
  {
   "cell_type": "code",
   "execution_count": null,
   "metadata": {},
   "outputs": [],
   "source": [
    "# The autoreload extension will automatically load in new code as you edit files, \n",
    "# so you don't need to restart the kernel every time\n",
    "%load_ext autoreload\n",
    "%autoreload 2\n",
    "import numpy as np\n",
    "import matplotlib.pyplot as plt\n",
    "from P1_astar import DetOccupancyGrid2D, AStar\n",
    "from utils import generate_planning_problem"
   ]
  },
  {
   "cell_type": "markdown",
   "metadata": {},
   "source": [
    "## Simple Environment\n",
    "### Workspace\n",
    "(Try changing this and see what happens)"
   ]
  },
  {
   "cell_type": "code",
   "execution_count": null,
   "metadata": {},
   "outputs": [],
   "source": [
    "width = 10\n",
    "height = 10\n",
    "obstacles = [((6,7),(8,8)),((2,2),(4,3)),((2,5),(4,7)),((6,3),(8,5))]\n",
    "occupancy = DetOccupancyGrid2D(width, height, obstacles)"
   ]
  },
  {
   "cell_type": "markdown",
   "metadata": {},
   "source": [
    "### Starting and final positions\n",
    "(Try changing these and see what happens)"
   ]
  },
  {
   "cell_type": "code",
   "execution_count": null,
   "metadata": {},
   "outputs": [],
   "source": [
    "x_init = (1, 1)\n",
    "x_goal = (9, 9)"
   ]
  },
  {
   "cell_type": "markdown",
   "metadata": {},
   "source": [
    "### Run A* planning"
   ]
  },
  {
   "cell_type": "code",
   "execution_count": null,
   "metadata": {},
   "outputs": [],
   "source": [
    "astar = AStar((0, 0), (width, height), x_init, x_goal, occupancy)\n",
    "if not astar.solve():\n",
    "    print \"No path found\"\n",
    "else:\n",
    "    plt.rcParams['figure.figsize'] = [5, 5]\n",
    "    astar.plot_path()\n",
    "    astar.plot_tree()"
   ]
  },
  {
   "cell_type": "markdown",
   "metadata": {},
   "source": [
    "## Random Cluttered Environment\n",
    "### Generate workspace, start and goal positions\n",
    "(Try changing these and see what happens)"
   ]
  },
  {
   "cell_type": "code",
   "execution_count": null,
   "metadata": {},
   "outputs": [],
   "source": [
    "width = 100\n",
    "height = 100\n",
    "num_obs = 25\n",
    "min_size = 5\n",
    "max_size = 30\n",
    "\n",
    "occupancy, x_init, x_goal = generate_planning_problem(width, height, num_obs, min_size, max_size)"
   ]
  },
  {
   "cell_type": "markdown",
   "metadata": {},
   "source": [
    "### Run A* planning"
   ]
  },
  {
   "cell_type": "code",
   "execution_count": null,
   "metadata": {},
   "outputs": [],
   "source": [
    "astar = AStar((0, 0), (width, height), x_init, x_goal, occupancy)\n",
    "if not astar.solve():\n",
    "    print \"No path found\"\n",
    "else:\n",
    "    plt.rcParams['figure.figsize'] = [10, 10]\n",
    "    astar.plot_path()\n",
    "    astar.plot_tree(point_size=2)"
   ]
  },
  {
   "cell_type": "code",
   "execution_count": null,
   "metadata": {},
   "outputs": [],
   "source": []
  }
 ],
 "metadata": {
  "kernelspec": {
   "display_name": "Python 2",
   "language": "python",
   "name": "python2"
  },
  "language_info": {
   "codemirror_mode": {
    "name": "ipython",
    "version": 2
   },
   "file_extension": ".py",
   "mimetype": "text/x-python",
   "name": "python",
   "nbconvert_exporter": "python",
   "pygments_lexer": "ipython2",
   "version": "2.7.12"
  }
 },
 "nbformat": 4,
 "nbformat_minor": 2
}
