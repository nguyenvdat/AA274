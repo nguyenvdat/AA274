{
 "cells": [
  {
   "cell_type": "markdown",
   "metadata": {},
   "source": [
    "# Trajectory Optimization and Tracking Simulation\n",
    "\n",
    "In this notebook, we will run the trajectory optimization code from Problem 1 as well as the trajectory tracking code from Problem 3."
   ]
  },
  {
   "cell_type": "code",
   "execution_count": null,
   "metadata": {},
   "outputs": [],
   "source": [
    "# The autoreload extension will automatically load in new code as you edit files, \n",
    "# so you don't need to restart the kernel every time\n",
    "%load_ext autoreload\n",
    "%autoreload 2\n",
    "import numpy as np\n",
    "from matplotlib import pyplot as plt\n",
    "from utils import simulate_car_dyn, maybe_makedirs\n",
    "from P1_differential_flatness import State, compute_traj_coeffs, compute_traj_with_limits \n",
    "from P3_trajectory_tracking import TrajectoryTracker\n",
    "\n",
    "maybe_makedirs('plots')"
   ]
  },
  {
   "cell_type": "markdown",
   "metadata": {},
   "source": [
    "### Various constants\n",
    "(Try changing these and seeing what happens)"
   ]
  },
  {
   "cell_type": "code",
   "execution_count": null,
   "metadata": {},
   "outputs": [],
   "source": [
    "V_max = 0.5 # max speed\n",
    "om_max = 1 # max rotational speed\n",
    "tf  = 15 # final time (sec)\n",
    "N = 301 # number of timesteps\n",
    "dt = tf*1./(N-1)"
   ]
  },
  {
   "cell_type": "markdown",
   "metadata": {},
   "source": [
    "### Starting and Final States\n",
    "(Try changing these and seeing what happens)"
   ]
  },
  {
   "cell_type": "code",
   "execution_count": null,
   "metadata": {},
   "outputs": [],
   "source": [
    "s_0 = State(x=0, y=0, V=V_max, th=-np.pi/2)\n",
    "s_f = State(x=5, y=5, V=V_max, th=-np.pi/2)"
   ]
  },
  {
   "cell_type": "markdown",
   "metadata": {},
   "source": [
    "# Trajectory Optimization\n",
    "First, we will use the implementations from problem 1 to compute a dynamically feasible trajectory from the starting point to the goal."
   ]
  },
  {
   "cell_type": "code",
   "execution_count": null,
   "metadata": {},
   "outputs": [],
   "source": [
    "traj, tau, V_tilde, om_tilde = compute_traj_with_limits(s_0, s_f, tf, N, V_max, om_max)"
   ]
  },
  {
   "cell_type": "code",
   "execution_count": null,
   "metadata": {},
   "outputs": [],
   "source": [
    "plt.figure(figsize=[10,5])\n",
    "plt.subplot(2,2,1)\n",
    "plt.plot(tau, traj[:,:3])\n",
    "plt.grid(True)\n",
    "plt.xlabel('t')\n",
    "plt.legend(labels=[\"x\",\"y\",\"th\"])\n",
    "plt.subplot(2,2,3)\n",
    "plt.plot(tau, V_tilde)\n",
    "plt.plot(tau, om_tilde)\n",
    "plt.grid(True)\n",
    "plt.xlabel('t')\n",
    "plt.legend(labels=[\"V\",\"om\"])\n",
    "plt.subplot(1,2,2)\n",
    "plt.plot(traj[:,0], traj[:,1], color='k')\n",
    "plt.xlabel('x')\n",
    "plt.ylabel('y')\n",
    "plt.grid(True)\n",
    "plt.tight_layout()\n",
    "plt.show()"
   ]
  },
  {
   "cell_type": "markdown",
   "metadata": {},
   "source": [
    "# Simulation\n",
    "Next, we will simulate how well we can actually execute these trajectories in the presense of noise. We will make use of the `simulate_car_dyn` function to do the simulation. Take a look in `utils.py` to see what it's doing under the hood."
   ]
  },
  {
   "cell_type": "code",
   "execution_count": null,
   "metadata": {
    "scrolled": true
   },
   "outputs": [],
   "source": [
    "print(simulate_car_dyn.__doc__)"
   ]
  },
  {
   "cell_type": "markdown",
   "metadata": {},
   "source": [
    "Choose a value of noise to apply at each step"
   ]
  },
  {
   "cell_type": "code",
   "execution_count": null,
   "metadata": {},
   "outputs": [],
   "source": [
    "noise_scale = np.sqrt(0.2)"
   ]
  },
  {
   "cell_type": "markdown",
   "metadata": {},
   "source": [
    "## Open Loop\n",
    "First, we simulate tracking this trajectory without any feedback control"
   ]
  },
  {
   "cell_type": "code",
   "execution_count": null,
   "metadata": {},
   "outputs": [],
   "source": [
    "actions_ol = np.stack([V_tilde, om_tilde], axis=-1)\n",
    "states_ol, ctrl_ol = simulate_car_dyn(s_0.x, s_0.y, s_0.th, tau, actions=actions_ol, noise_scale=noise_scale)"
   ]
  },
  {
   "cell_type": "code",
   "execution_count": null,
   "metadata": {},
   "outputs": [],
   "source": [
    "plt.figure(figsize=[10,5])\n",
    "plt.subplot(2,2,1)\n",
    "plt.plot(tau, states_ol)\n",
    "plt.plot(tau, traj[:,0], linestyle=':', color='C0', alpha=0.7)\n",
    "plt.plot(tau, traj[:,1], linestyle=':', color='C1', alpha=0.7)\n",
    "plt.plot(tau, traj[:,2], linestyle=':', color='C2', alpha=0.7)\n",
    "plt.grid(True)\n",
    "plt.xlabel('t')\n",
    "plt.legend(labels=[\"x\",\"y\",\"th\",\"nominal\"])\n",
    "plt.subplot(2,2,3)\n",
    "plt.plot(tau[:-1], ctrl_ol)\n",
    "plt.grid(True)\n",
    "plt.xlabel('t')\n",
    "plt.legend(labels=[\"V\",\"om\"])\n",
    "plt.subplot(1,2,2)\n",
    "plt.plot(states_ol[:,0], states_ol[:,1])\n",
    "plt.plot(traj[:,0], traj[:,1], color=\"k\", linestyle=\":\", alpha=0.7)\n",
    "plt.legend(labels=[\"Open Loop\", \"Nominal\"])\n",
    "plt.xlabel('x')\n",
    "plt.ylabel('y')\n",
    "plt.grid(True)\n",
    "plt.tight_layout()\n",
    "plt.savefig(\"plots/sim_traj_openloop.pdf\")\n",
    "plt.show()"
   ]
  },
  {
   "cell_type": "markdown",
   "metadata": {},
   "source": [
    "## Closed Loop\n",
    "Next, we will use the tracking controller developed in problem 3 to apply feedback and track the trajectory in the presence of noise."
   ]
  },
  {
   "cell_type": "markdown",
   "metadata": {},
   "source": [
    "Try playing with these gains to see the impact on performance"
   ]
  },
  {
   "cell_type": "code",
   "execution_count": null,
   "metadata": {},
   "outputs": [],
   "source": [
    "kpx = 2\n",
    "kpy = 2\n",
    "kdx = 2\n",
    "kdy = 2\n",
    "controller = TrajectoryTracker(kpx=kpx, kpy=kpy, kdx=kdx, kdy=kdy, V_max=V_max, om_max=om_max)"
   ]
  },
  {
   "cell_type": "markdown",
   "metadata": {},
   "source": [
    "This controller designed to be similar to the controller module you'll use on the real robots for the final project. You can think of it as a module that will track whatever trajectory is given to it from another module (e.g. a planner module). So the first step is to load the controller with the trajectory we have planned"
   ]
  },
  {
   "cell_type": "code",
   "execution_count": null,
   "metadata": {},
   "outputs": [],
   "source": [
    "controller.load_traj(tau, traj)"
   ]
  },
  {
   "cell_type": "markdown",
   "metadata": {},
   "source": [
    "Then, we can simulate."
   ]
  },
  {
   "cell_type": "code",
   "execution_count": null,
   "metadata": {},
   "outputs": [],
   "source": [
    "tf_actual = tau[-1]\n",
    "times_cl = np.arange(0, tf_actual, dt)\n",
    "states_cl, ctrl_cl = simulate_car_dyn(s_0.x, s_0.y, s_0.th, times_cl, controller=controller, noise_scale=noise_scale)"
   ]
  },
  {
   "cell_type": "code",
   "execution_count": null,
   "metadata": {},
   "outputs": [],
   "source": [
    "plt.figure(figsize=[10,5])\n",
    "plt.subplot(2,2,1)\n",
    "plt.plot(times_cl, states_cl)\n",
    "plt.plot(tau, traj[:,0], linestyle=':', color='C0', alpha=0.7)\n",
    "plt.plot(tau, traj[:,1], linestyle=':', color='C1', alpha=0.7)\n",
    "plt.plot(tau, traj[:,2], linestyle=':', color='C2', alpha=0.7)\n",
    "plt.grid(True)\n",
    "plt.xlabel('t')\n",
    "plt.legend(labels=[\"x\",\"y\",\"th\",\"Nominal\"])\n",
    "plt.subplot(2,2,3)\n",
    "plt.plot(times_cl[:-1], ctrl_cl)\n",
    "plt.plot(tau[:-1], ctrl_ol[:,0], color='C0', linestyle=':', alpha=0.7)\n",
    "plt.plot(tau[:-1], ctrl_ol[:,1], color='C1', linestyle=':', alpha=0.7)\n",
    "plt.grid(True)\n",
    "plt.xlabel('t')\n",
    "plt.legend(labels=[\"V\",\"om\", \"Nominal\"])\n",
    "plt.subplot(1,2,2)\n",
    "plt.plot(traj[:,0], traj[:,1], color=\"k\", linestyle=\":\", alpha=0.7)\n",
    "plt.plot(states_ol[:,0], states_ol[:,1], alpha=0.7)\n",
    "plt.plot(states_cl[:,0], states_cl[:,1])\n",
    "plt.legend(labels=[\"Nominal\", \"Open Loop\", \"Closed Loop\"])\n",
    "plt.xlabel('x')\n",
    "plt.ylabel('y')\n",
    "plt.grid(True)\n",
    "plt.tight_layout()\n",
    "plt.savefig(\"plots/sim_traj_closedloop.pdf\")\n",
    "plt.show()"
   ]
  },
  {
   "cell_type": "code",
   "execution_count": null,
   "metadata": {},
   "outputs": [],
   "source": []
  }
 ],
 "metadata": {
  "kernelspec": {
   "display_name": "Python 2",
   "language": "python",
   "name": "python2"
  },
  "language_info": {
   "codemirror_mode": {
    "name": "ipython",
    "version": 2
   },
   "file_extension": ".py",
   "mimetype": "text/x-python",
   "name": "python",
   "nbconvert_exporter": "python",
   "pygments_lexer": "ipython2",
   "version": "2.7.12"
  }
 },
 "nbformat": 4,
 "nbformat_minor": 2
}
