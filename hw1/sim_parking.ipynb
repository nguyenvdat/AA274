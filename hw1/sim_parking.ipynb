{
 "cells": [
  {
   "cell_type": "markdown",
   "metadata": {},
   "source": [
    "# Pose Controller Simulation\n",
    "\n",
    "In this notebook, we will run the pose stabilization controller from Problem 2"
   ]
  },
  {
   "cell_type": "code",
   "execution_count": null,
   "metadata": {},
   "outputs": [],
   "source": [
    "# The autoreload extension will automatically load in new code as you edit files, \n",
    "# so you don't need to restart the kernel every time\n",
    "%load_ext autoreload\n",
    "%autoreload 2\n",
    "import numpy as np\n",
    "from matplotlib import pyplot as plt\n",
    "from utils import simulate_car_dyn, maybe_makedirs\n",
    "from P2_pose_stabilization import PoseController\n",
    "\n",
    "maybe_makedirs('plots')"
   ]
  },
  {
   "cell_type": "markdown",
   "metadata": {},
   "source": [
    "### Various Constants\n",
    "(Try changing the noise_scale and seeing what happens)"
   ]
  },
  {
   "cell_type": "code",
   "execution_count": null,
   "metadata": {},
   "outputs": [],
   "source": [
    "V_max = 0.5 # max speed\n",
    "om_max = 1 # max rotational speed\n",
    "tf  = 25 # final time (sec)\n",
    "dt = 0.005\n",
    "N = np.ceil( tf / dt ).astype(np.int32)\n",
    "\n",
    "noise_scale = 0* np.sqrt(0.01) # noise level"
   ]
  },
  {
   "cell_type": "markdown",
   "metadata": {},
   "source": [
    "### Goal State"
   ]
  },
  {
   "cell_type": "code",
   "execution_count": null,
   "metadata": {},
   "outputs": [],
   "source": [
    "x_g = 0\n",
    "y_g = 0\n",
    "th_g = 0"
   ]
  },
  {
   "cell_type": "markdown",
   "metadata": {},
   "source": [
    "### Controller\n",
    "Let's create our controller and choose some gains. Try playing with different values for the gains."
   ]
  },
  {
   "cell_type": "code",
   "execution_count": null,
   "metadata": {},
   "outputs": [],
   "source": [
    "k1 = 0.4\n",
    "k2 = 0.8\n",
    "k3 = 0.8\n",
    "\n",
    "controller = PoseController(k1,k2,k3,V_max,om_max)"
   ]
  },
  {
   "cell_type": "markdown",
   "metadata": {},
   "source": [
    "## Simulation\n",
    "Now, let's simulate different parking maneuvers by choosing different start positions"
   ]
  },
  {
   "cell_type": "markdown",
   "metadata": {},
   "source": [
    "## Scenario 1: Forward\n",
    "\n",
    "The robot should start behind the desired goal pose."
   ]
  },
  {
   "cell_type": "code",
   "execution_count": null,
   "metadata": {},
   "outputs": [],
   "source": [
    "# Fill these in\n",
    "x_0_fw = -5.0\n",
    "y_0_fw = -0.2\n",
    "th_0_fw = 0\n",
    "\n",
    "controller.load_goal(x_g, y_g, th_g)\n",
    "\n",
    "times_fw = np.arange(0, tf+dt/2, dt)\n",
    "states_fw, ctrl_fw = simulate_car_dyn(x_0_fw,y_0_fw,th_0_fw, times_fw, controller=controller, noise_scale=noise_scale)"
   ]
  },
  {
   "cell_type": "code",
   "execution_count": null,
   "metadata": {},
   "outputs": [],
   "source": [
    "plt.figure(figsize=[10,5])\n",
    "plt.subplot(2,2,1)\n",
    "plt.plot(times_fw, states_fw)\n",
    "plt.grid(True)\n",
    "plt.xlabel('t (s)')\n",
    "plt.legend(labels=[\"x\",\"y\",\"th\"])\n",
    "plt.subplot(2,2,3)\n",
    "plt.plot(times_fw[:-1], ctrl_fw)\n",
    "plt.grid(True)\n",
    "plt.xlabel('t (s)')\n",
    "plt.legend(labels=[\"V\",\"om\"])\n",
    "plt.subplot(1,2,2)\n",
    "plt.plot(x_0_fw,y_0_fw,'go',markerfacecolor='green',markersize=10)\n",
    "plt.plot(x_g,y_g,'ro',markerfacecolor='red', markersize=10)\n",
    "plt.plot(states_fw[:,0], states_fw[:,1])\n",
    "rate = int(N/10)\n",
    "plt.quiver(states_fw[::rate,0],states_fw[::rate,1],np.cos(states_fw[::rate,2]), np.sin(states_fw[::rate,2]))\n",
    "plt.xlabel('x (m)')\n",
    "plt.ylabel('y (m)')\n",
    "plt.grid(True)\n",
    "plt.axis('equal')\n",
    "plt.tight_layout()\n",
    "plt.savefig(\"plots/sim_parking_forward.png\")\n",
    "plt.show()"
   ]
  },
  {
   "cell_type": "markdown",
   "metadata": {},
   "source": [
    "## Scenario 2: Reverse\n",
    "\n",
    "The robot should start ahead of the desired goal pose."
   ]
  },
  {
   "cell_type": "code",
   "execution_count": null,
   "metadata": {},
   "outputs": [],
   "source": [
    "# Fill these in\n",
    "x_0_bw = 1.0\n",
    "y_0_bw = 0\n",
    "th_0_bw = 0\n",
    "\n",
    "controller.load_goal(x_g, y_g, th_g)\n",
    "\n",
    "times_bw = np.arange(0, tf+dt/2, dt)\n",
    "states_bw, ctrl_bw = simulate_car_dyn(x_0_bw,y_0_bw,th_0_bw, times_bw, controller=controller, noise_scale=noise_scale)"
   ]
  },
  {
   "cell_type": "code",
   "execution_count": null,
   "metadata": {},
   "outputs": [],
   "source": [
    "plt.figure(figsize=[10,5])\n",
    "plt.subplot(2,2,1)\n",
    "plt.plot(times_bw, states_bw)\n",
    "plt.grid(True)\n",
    "plt.xlabel('t (s)')\n",
    "plt.legend(labels=[\"x\",\"y\",\"th\"])\n",
    "plt.subplot(2,2,3)\n",
    "plt.plot(times_bw[:-1], ctrl_bw)\n",
    "plt.grid(True)\n",
    "plt.xlabel('t (s)')\n",
    "plt.legend(labels=[\"V\",\"om\"])\n",
    "plt.subplot(1,2,2)\n",
    "plt.plot(x_0_bw,y_0_bw,'go',markerfacecolor='green',markersize=10)\n",
    "plt.plot(x_g,y_g,'ro',markerfacecolor='red', markersize=10)\n",
    "plt.plot(states_bw[:,0], states_bw[:,1])\n",
    "rate = int(N/10)\n",
    "plt.quiver(states_bw[::rate,0],states_bw[::rate,1],np.cos(states_bw[::rate,2]), np.sin(states_bw[::rate,2]))\n",
    "plt.xlabel('x (m)')\n",
    "plt.ylabel('y (m)')\n",
    "plt.grid(True)\n",
    "plt.axis('equal')\n",
    "plt.tight_layout()\n",
    "plt.savefig(\"plots/sim_parking_reverse.png\")\n",
    "plt.show()"
   ]
  },
  {
   "cell_type": "markdown",
   "metadata": {},
   "source": [
    "## Scenario 3: Parallel\n",
    "\n",
    "The robot should start parallel to the desired goal pose."
   ]
  },
  {
   "cell_type": "code",
   "execution_count": null,
   "metadata": {},
   "outputs": [],
   "source": [
    "# Fill these in\n",
    "x_0_pp = 0\n",
    "y_0_pp = -0.5\n",
    "th_0_pp = 0\n",
    "\n",
    "controller.load_goal(x_g, y_g, th_g)\n",
    "\n",
    "times_pp = np.arange(0, tf+dt/2, dt)\n",
    "states_pp, ctrl_pp = simulate_car_dyn(x_0_pp,y_0_pp,th_0_pp, times_pp, controller=controller, noise_scale=noise_scale)"
   ]
  },
  {
   "cell_type": "code",
   "execution_count": null,
   "metadata": {},
   "outputs": [],
   "source": [
    "plt.figure(figsize=[10,5])\n",
    "plt.subplot(2,2,1)\n",
    "plt.plot(times_pp, states_pp)\n",
    "plt.grid(True)\n",
    "plt.xlabel('t (s)')\n",
    "plt.legend(labels=[\"x\",\"y\",\"th\"])\n",
    "plt.subplot(2,2,3)\n",
    "plt.plot(times_pp[:-1], ctrl_pp)\n",
    "plt.grid(True)\n",
    "plt.xlabel('t (s)')\n",
    "plt.legend(labels=[\"V\",\"om\"])\n",
    "plt.subplot(1,2,2)\n",
    "plt.plot(x_0_pp,y_0_pp,'go',markerfacecolor='green',markersize=10)\n",
    "plt.plot(x_g,y_g,'ro',markerfacecolor='red', markersize=10)\n",
    "plt.plot(states_pp[:,0], states_pp[:,1])\n",
    "rate = int(N/10)\n",
    "plt.quiver(states_pp[::rate,0],states_pp[::rate,1],np.cos(states_pp[::rate,2]), np.sin(states_pp[::rate,2]))\n",
    "plt.xlabel('x (m)')\n",
    "plt.ylabel('y (m)')\n",
    "plt.grid(True)\n",
    "plt.axis('equal')\n",
    "plt.tight_layout()\n",
    "plt.savefig(\"plots/sim_parking_parallel.png\")\n",
    "plt.show()"
   ]
  },
  {
   "cell_type": "code",
   "execution_count": null,
   "metadata": {},
   "outputs": [],
   "source": []
  }
 ],
 "metadata": {
  "kernelspec": {
   "display_name": "Python 2",
   "language": "python",
   "name": "python2"
  },
  "language_info": {
   "codemirror_mode": {
    "name": "ipython",
    "version": 2
   },
   "file_extension": ".py",
   "mimetype": "text/x-python",
   "name": "python",
   "nbconvert_exporter": "python",
   "pygments_lexer": "ipython2",
   "version": "2.7.12"
  }
 },
 "nbformat": 4,
 "nbformat_minor": 2
}
